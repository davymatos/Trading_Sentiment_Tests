{
 "cells": [
  {
   "cell_type": "code",
   "execution_count": 4,
   "id": "844117e9",
   "metadata": {},
   "outputs": [],
   "source": [
    "import urllib3\n",
    "import json\n",
    "import matplotlib.pyplot\n",
    "import numpy as np \n",
    "import csv\n",
    "import time\n",
    "import datetime\n",
    "\n",
    "#start time should be different that the actual date\n",
    "date2 = datetime.datetime(2022,4,25)\n",
    "start_Time = int(datetime.datetime.timestamp(date2)*1000)\n",
    "\n",
    "#actual date\n",
    "date1 = datetime.datetime(2022,5,24)\n",
    "end_Time = int(datetime.datetime.timestamp(date1)*1000)\n",
    "\n",
    "symbol = 'BTCUSDT'\n",
    "\n",
    "#must be: \"5m\",\"15m\",\"30m\",\"1h\",\"2h\",\"4h\",\"6h\",\"12h\",\"1d\"\n",
    "period = '5m'\n",
    "\n",
    "limit = 500\n",
    "\n",
    "#request\n",
    "http = urllib3.PoolManager()\n",
    "response = http.request('GET',f\"https://fapi.binance.com/futures/data/globalLongShortAccountRatio?symbol={symbol}&period={period}&limit={limit}&startTime={start_Time}&endTime={end_Time}\")\n",
    "\n",
    "data_response = response.data.decode(\"utf-8\")\n",
    "\n",
    "data_json = json.loads(data_response)\n",
    "\n",
    "data = []\n",
    "\n",
    "for obj in data_json:\n",
    "    dict = (obj['longShortRatio'],obj['timestamp'],obj['symbol'])\n",
    "    data.append(dict)\n",
    "\n",
    "list_rows = data\n",
    "\n",
    "np.savetxt(\"Dados Minerados.csv\", list_rows, delimiter =\",\",fmt ='% s',header='longShortRatio,timestamp,symbol')"
   ]
  },
  {
   "cell_type": "code",
   "execution_count": null,
   "id": "e028658d",
   "metadata": {},
   "outputs": [],
   "source": []
  }
 ],
 "metadata": {
  "kernelspec": {
   "display_name": "Python 3",
   "language": "python",
   "name": "python3"
  },
  "language_info": {
   "codemirror_mode": {
    "name": "ipython",
    "version": 3
   },
   "file_extension": ".py",
   "mimetype": "text/x-python",
   "name": "python",
   "nbconvert_exporter": "python",
   "pygments_lexer": "ipython3",
   "version": "3.8.8"
  }
 },
 "nbformat": 4,
 "nbformat_minor": 5
}
